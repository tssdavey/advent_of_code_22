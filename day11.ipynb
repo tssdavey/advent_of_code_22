{
 "cells": [
  {
   "cell_type": "code",
   "execution_count": 1,
   "metadata": {},
   "outputs": [],
   "source": [
    "test_monkeys= \"\"\"Monkey 0:\n",
    "  Starting items: 79, 98\n",
    "  Operation: new = old * 19\n",
    "  Test: divisible by 23\n",
    "    If true: throw to monkey 2\n",
    "    If false: throw to monkey 3\n",
    "\n",
    "Monkey 1:\n",
    "  Starting items: 54, 65, 75, 74\n",
    "  Operation: new = old + 6\n",
    "  Test: divisible by 19\n",
    "    If true: throw to monkey 2\n",
    "    If false: throw to monkey 0\n",
    "\n",
    "Monkey 2:\n",
    "  Starting items: 79, 60, 97\n",
    "  Operation: new = old * old\n",
    "  Test: divisible by 13\n",
    "    If true: throw to monkey 1\n",
    "    If false: throw to monkey 3\n",
    "\n",
    "Monkey 3:\n",
    "  Starting items: 74\n",
    "  Operation: new = old + 3\n",
    "  Test: divisible by 17\n",
    "    If true: throw to monkey 0\n",
    "    If false: throw to monkey 1\"\"\""
   ]
  },
  {
   "cell_type": "code",
   "execution_count": 112,
   "metadata": {},
   "outputs": [],
   "source": [
    "real_monkeys = \"\"\"Monkey 0:\n",
    "  Starting items: 91, 58, 52, 69, 95, 54\n",
    "  Operation: new = old * 13\n",
    "  Test: divisible by 7\n",
    "    If true: throw to monkey 1\n",
    "    If false: throw to monkey 5\n",
    "\n",
    "Monkey 1:\n",
    "  Starting items: 80, 80, 97, 84\n",
    "  Operation: new = old * old\n",
    "  Test: divisible by 3\n",
    "    If true: throw to monkey 3\n",
    "    If false: throw to monkey 5\n",
    "\n",
    "Monkey 2:\n",
    "  Starting items: 86, 92, 71\n",
    "  Operation: new = old + 7\n",
    "  Test: divisible by 2\n",
    "    If true: throw to monkey 0\n",
    "    If false: throw to monkey 4\n",
    "\n",
    "Monkey 3:\n",
    "  Starting items: 96, 90, 99, 76, 79, 85, 98, 61\n",
    "  Operation: new = old + 4\n",
    "  Test: divisible by 11\n",
    "    If true: throw to monkey 7\n",
    "    If false: throw to monkey 6\n",
    "\n",
    "Monkey 4:\n",
    "  Starting items: 60, 83, 68, 64, 73\n",
    "  Operation: new = old * 19\n",
    "  Test: divisible by 17\n",
    "    If true: throw to monkey 1\n",
    "    If false: throw to monkey 0\n",
    "\n",
    "Monkey 5:\n",
    "  Starting items: 96, 52, 52, 94, 76, 51, 57\n",
    "  Operation: new = old + 3\n",
    "  Test: divisible by 5\n",
    "    If true: throw to monkey 7\n",
    "    If false: throw to monkey 3\n",
    "\n",
    "Monkey 6:\n",
    "  Starting items: 75\n",
    "  Operation: new = old + 5\n",
    "  Test: divisible by 13\n",
    "    If true: throw to monkey 4\n",
    "    If false: throw to monkey 2\n",
    "\n",
    "Monkey 7:\n",
    "  Starting items: 83, 75\n",
    "  Operation: new = old + 1\n",
    "  Test: divisible by 19\n",
    "    If true: throw to monkey 2\n",
    "    If false: throw to monkey 6\"\"\""
   ]
  },
  {
   "cell_type": "code",
   "execution_count": 33,
   "metadata": {},
   "outputs": [
    {
     "data": {
      "text/plain": [
       "-3"
      ]
     },
     "execution_count": 33,
     "metadata": {},
     "output_type": "execute_result"
    }
   ],
   "source": [
    "a = []\n",
    "for _ in ['x + 6','x - 7']:\n",
    "    f = lambda x: eval(_)\n",
    "    a.append(f)\n",
    "a[0](4)"
   ]
  },
  {
   "cell_type": "code",
   "execution_count": 152,
   "metadata": {},
   "outputs": [
    {
     "name": "stdout",
     "output_type": "stream",
     "text": [
      "[22573, 23734, 57020, 106904, 109357, 112859, 116421, 121166]\n",
      "14106266886\n"
     ]
    }
   ],
   "source": [
    "def p2(monkeys):\n",
    "    a = 1\n",
    "    modulos = [m['test'] for m in monkeys.values()]\n",
    "    for monkey in monkeys.values():\n",
    "        for i in range(len(monkey['items'])):\n",
    "            item = {m : monkey['items'][i] % m for m in modulos}\n",
    "            monkey['items'][i] = item\n",
    "    #         print(item)\n",
    "    # print(monkeys)\n",
    "    # print(modulos)\n",
    "    for _ in range(10000):\n",
    "        for monkey_i in range(len(monkeys)):\n",
    "        #for monkey_i in [3]:\n",
    "            monkey = monkeys[monkey_i]\n",
    "            while len(monkey['items']) > 0:\n",
    "                monkey['number_items_inspected'] += 1\n",
    "                item = monkey['items'].pop(0)\n",
    "                f = lambda old: eval(monkey['operation'])\n",
    "                for k,v in item.items():\n",
    "                    #print(k,v)\n",
    "                    v = f(v)\n",
    "                    v = v % k\n",
    "                    item[k] = v\n",
    "                if item[monkey['test']] == 0:\n",
    "                    monkeys[monkey['iftrue']]['items'].append(item)\n",
    "                else:\n",
    "                    monkeys[monkey['iffalse']]['items'].append(item)\n",
    "    sorted_items = []\n",
    "    for monkey_i in range(len(monkeys)):\n",
    "        monkey = monkeys[monkey_i]\n",
    "        sorted_items.append(monkey['number_items_inspected'])\n",
    "    sorted_items.sort()\n",
    "    print(sorted_items)\n",
    "    print(sorted_items[-1]*sorted_items[-2])\n",
    "monkeys = process(real_monkeys)\n",
    "p2(monkeys)"
   ]
  },
  {
   "cell_type": "code",
   "execution_count": 127,
   "metadata": {},
   "outputs": [
    {
     "name": "stdout",
     "output_type": "stream",
     "text": [
      "10605\n"
     ]
    }
   ],
   "source": [
    "def p1(monkeys):\n",
    "    a = 1\n",
    "    for _ in range(20):\n",
    "        for monkey_i in range(len(monkeys)):\n",
    "        #for monkey_i in [3]:\n",
    "            monkey = monkeys[monkey_i]\n",
    "            while len(monkey['items']) > 0:\n",
    "                monkey['number_items_inspected'] += 1\n",
    "                item = monkey['items'].pop(0)\n",
    "                #print(monkey['items'])\n",
    "                f = lambda old: eval(monkey['operation'])\n",
    "                item = f(item)\n",
    "                item = item // 3\n",
    "                if item % monkey['test'] == 0:\n",
    "                    monkeys[monkey['iftrue']]['items'].append(item)\n",
    "                else:\n",
    "                    monkeys[monkey['iffalse']]['items'].append(item)\n",
    "    sorted_items = []\n",
    "    for monkey_i in range(len(monkeys)):\n",
    "        monkey = monkeys[monkey_i]\n",
    "        sorted_items.append(monkey['number_items_inspected'])\n",
    "    sorted_items.sort()\n",
    "    print(sorted_items[-1]*sorted_items[-2])\n",
    "monkeys = process(test_monkeys)\n",
    "p1(monkeys)"
   ]
  },
  {
   "cell_type": "code",
   "execution_count": 124,
   "metadata": {},
   "outputs": [
    {
     "name": "stdout",
     "output_type": "stream",
     "text": [
      "Monkey 0:\n",
      "  Starting items: 79, 98\n",
      "  Operation: new = old * 19\n",
      "  Test: divisible by 23\n",
      "    If true: throw to monkey 2\n",
      "    If false: throw to monkey 3\n",
      "\n",
      "Monkey 1:\n",
      "  Starting items: 54, 65, 75, 74\n",
      "  Operation: new = old + 6\n",
      "  Test: divisible by 19\n",
      "    If true: throw to monkey 2\n",
      "    If false: throw to monkey 0\n",
      "\n",
      "Monkey 2:\n",
      "  Starting items: 79, 60, 97\n",
      "  Operation: new = old * old\n",
      "  Test: divisible by 13\n",
      "    If true: throw to monkey 1\n",
      "    If false: throw to monkey 3\n",
      "\n",
      "Monkey 3:\n",
      "  Starting items: 74\n",
      "  Operation: new = old + 3\n",
      "  Test: divisible by 17\n",
      "    If true: throw to monkey 0\n",
      "    If false: throw to monkey 1\n"
     ]
    }
   ],
   "source": [
    "def process(m):\n",
    "    m = m.split('\\n\\n')\n",
    "    a = {}\n",
    "    for r in m:\n",
    "        #print(r)\n",
    "        #print(r.split('\\n'))\n",
    "        r = r.split('\\n')\n",
    "        monkey = {}\n",
    "        monkey['number']=int(r[0].split(' ')[1].replace(':',''))\n",
    "        monkey['items']=[int(x) for x in r[1].split(': ')[1].split(',')]\n",
    "        monkey['operation'] = r[2].split('=')[1]\n",
    "        monkey['test'] = int(r[3].split('by')[1])\n",
    "        monkey['iftrue'] = int(r[4].split('monkey')[1])\n",
    "        monkey['iffalse'] = int(r[5].split('monkey')[1])\n",
    "        monkey['number_items_inspected'] = 0\n",
    "        a[monkey['number']] = monkey\n",
    "    #print(a)\n",
    "    return a\n",
    "test = process(test_monkeys)\n",
    "\n",
    "#f = lambda old: eval(process(test_monkeys)[1]['operation'])\n",
    "#f(4)\n",
    "print(test_monkeys)"
   ]
  }
 ],
 "metadata": {
  "kernelspec": {
   "display_name": "Python 3.10.6 64-bit",
   "language": "python",
   "name": "python3"
  },
  "language_info": {
   "codemirror_mode": {
    "name": "ipython",
    "version": 3
   },
   "file_extension": ".py",
   "mimetype": "text/x-python",
   "name": "python",
   "nbconvert_exporter": "python",
   "pygments_lexer": "ipython3",
   "version": "3.10.6"
  },
  "orig_nbformat": 4,
  "vscode": {
   "interpreter": {
    "hash": "b0fa6594d8f4cbf19f97940f81e996739fb7646882a419484c72d19e05852a7e"
   }
  }
 },
 "nbformat": 4,
 "nbformat_minor": 2
}
