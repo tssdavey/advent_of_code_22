{
 "cells": [
  {
   "cell_type": "code",
   "execution_count": 7,
   "metadata": {},
   "outputs": [],
   "source": [
    "tests = \"\"\"Blueprint 1:\n",
    "  Each ore robot costs 4 ore.\n",
    "  Each clay robot costs 2 ore.\n",
    "  Each obsidian robot costs 3 ore and 14 clay.\n",
    "  Each geode robot costs 2 ore and 7 obsidian.\n",
    "\n",
    "Blueprint 2:\n",
    "  Each ore robot costs 2 ore.\n",
    "  Each clay robot costs 3 ore.\n",
    "  Each obsidian robot costs 3 ore and 8 clay.\n",
    "  Each geode robot costs 3 ore and 12 obsidian.\"\"\""
   ]
  },
  {
   "cell_type": "code",
   "execution_count": 20,
   "metadata": {},
   "outputs": [],
   "source": [
    "import re\n"
   ]
  },
  {
   "cell_type": "code",
   "execution_count": 40,
   "metadata": {},
   "outputs": [
    {
     "name": "stdout",
     "output_type": "stream",
     "text": [
      "[[4], [2], [3, 14], [2, 7]]\n"
     ]
    },
    {
     "data": {
      "text/plain": [
       "[[4], [2], [3, 14], [2, 7]]"
      ]
     },
     "execution_count": 40,
     "metadata": {},
     "output_type": "execute_result"
    }
   ],
   "source": [
    "def parse(input_str):\n",
    "    for blueprint in input_str.split('\\n\\n'):\n",
    "        d = []\n",
    "        lines = blueprint.split('\\n')\n",
    "        for _ in range(1,5):\n",
    "            d.append(list(map(int,(re.findall(r'\\d+', lines[_])))))\n",
    "        print(d)\n",
    "        return d\n",
    "parse(tests)"
   ]
  },
  {
   "cell_type": "code",
   "execution_count": 65,
   "metadata": {},
   "outputs": [
    {
     "name": "stdout",
     "output_type": "stream",
     "text": [
      "[[4], [2], [3, 14], [2, 7]]\n",
      "[[4], [2], [3, 14], [2, 7]]\n",
      "-----\n",
      "1\n",
      "[1, 0, 0, 0]\n",
      "[1, 0, 0, 0]\n",
      "-----\n",
      "2\n",
      "[2, 0, 0, 0]\n",
      "[1, 0, 0, 0]\n",
      "-----\n",
      "3\n",
      "[1, 0, 0, 0]\n",
      "[1, 1, 0, 0]\n",
      "-----\n",
      "4\n",
      "[2, 1, 0, 0]\n",
      "[1, 1, 0, 0]\n",
      "-----\n",
      "5\n",
      "[1, 2, 0, 0]\n",
      "[1, 2, 0, 0]\n",
      "-----\n",
      "6\n",
      "[2, 4, 0, 0]\n",
      "[1, 2, 0, 0]\n",
      "-----\n",
      "7\n",
      "[1, 6, 0, 0]\n",
      "[1, 3, 0, 0]\n",
      "-----\n",
      "8\n",
      "[2, 9, 0, 0]\n",
      "[1, 3, 0, 0]\n",
      "-----\n",
      "9\n",
      "[1, 12, 0, 0]\n",
      "[1, 4, 0, 0]\n",
      "-----\n",
      "10\n",
      "[2, 16, 0, 0]\n",
      "[1, 4, 0, 0]\n"
     ]
    }
   ],
   "source": [
    "def p1(a):\n",
    "    print(a)\n",
    "    machines = [1,0,0,0]\n",
    "    resources = [0,0,0,0]\n",
    "    for _ in range(10):\n",
    "        print('-----')\n",
    "        print(_+1)\n",
    "        new_machines = machines.copy()\n",
    "        if resources[0] >= a[1][0]:\n",
    "            resources[0] -= a[1][0]\n",
    "            new_machines[1] += 1\n",
    "        if resources[0] >= a[0][0]:\n",
    "            resources[0] -= a[0][0]\n",
    "            new_machines[0] += 1\n",
    "        resources = [sum(x) for x in zip(machines, resources)]\n",
    "        machines = new_machines\n",
    "        print(resources)\n",
    "        print(machines)\n",
    "p1(parse(tests))"
   ]
  },
  {
   "cell_type": "code",
   "execution_count": null,
   "metadata": {},
   "outputs": [],
   "source": [
    "def calculate_quality_level(blueprints):\n",
    "    quality_levels = {}\n",
    "    for i, blueprint in enumerate(blueprints):\n",
    "        quality_levels[i+1] = 0\n",
    "        resources = {'ore': 1}\n",
    "        for minute in range(24):\n",
    "            for resource, robots in resources.items():\n",
    "                resources[resource] += robots\n",
    "            for resource, cost in blueprint.items():\n",
    "                if cost[0] <= resources[cost[1]]:\n",
    "                    resources[cost[1]] -= cost[0]\n",
    "                    if resource not in resources:\n",
    "                        resources[resource] = 0\n",
    "                    resources[resource] += 1\n",
    "            if 'geode' in resources:\n",
    "                quality_levels[i+1] = max(quality_levels[i+1], resources['geode'])\n",
    "    return quality_levels\n"
   ]
  }
 ],
 "metadata": {
  "kernelspec": {
   "display_name": "Python 3",
   "language": "python",
   "name": "python3"
  },
  "language_info": {
   "codemirror_mode": {
    "name": "ipython",
    "version": 3
   },
   "file_extension": ".py",
   "mimetype": "text/x-python",
   "name": "python",
   "nbconvert_exporter": "python",
   "pygments_lexer": "ipython3",
   "version": "3.10.6 (main, Aug 30 2022, 04:58:14) [Clang 13.1.6 (clang-1316.0.21.2.5)]"
  },
  "orig_nbformat": 4,
  "vscode": {
   "interpreter": {
    "hash": "b0fa6594d8f4cbf19f97940f81e996739fb7646882a419484c72d19e05852a7e"
   }
  }
 },
 "nbformat": 4,
 "nbformat_minor": 2
}
